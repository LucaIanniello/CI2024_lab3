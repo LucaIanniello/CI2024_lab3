{
 "cells": [
  {
   "cell_type": "markdown",
   "metadata": {
    "vscode": {
     "languageId": "plaintext"
    }
   },
   "source": [
    "Copyright **`(c)`** 2024 Giovanni Squillero `<giovanni.squillero@polito.it>`  \n",
    "[`https://github.com/squillero/computational-intelligence`](https://github.com/squillero/computational-intelligence)  \n",
    "Free under certain conditions — see the [`license`](https://github.com/squillero/computational-intelligence/blob/master/LICENSE.md) for details.  "
   ]
  },
  {
   "cell_type": "code",
   "execution_count": 37,
   "metadata": {},
   "outputs": [],
   "source": [
    "from collections import namedtuple\n",
    "from random import choice\n",
    "from tqdm.auto import tqdm\n",
    "from heapq import heappop, heappush\n",
    "import numpy as np"
   ]
  },
  {
   "cell_type": "code",
   "execution_count": 38,
   "metadata": {},
   "outputs": [],
   "source": [
    "PUZZLE_DIM = 4\n",
    "RANDOMIZE_STEPS = 1000\n",
    "action = namedtuple('Action', ['pos1', 'pos2'])"
   ]
  },
  {
   "cell_type": "code",
   "execution_count": 39,
   "metadata": {},
   "outputs": [],
   "source": [
    "def available_actions(state: np.ndarray) -> list['Action']:\n",
    "    x, y = [int(_[0]) for _ in np.where(state == 0)]\n",
    "    actions = list()\n",
    "    if x > 0:\n",
    "        actions.append(action((x, y), (x - 1, y)))\n",
    "    if x < PUZZLE_DIM - 1:\n",
    "        actions.append(action((x, y), (x + 1, y)))\n",
    "    if y > 0:\n",
    "        actions.append(action((x, y), (x, y - 1)))\n",
    "    if y < PUZZLE_DIM - 1:\n",
    "        actions.append(action((x, y), (x, y + 1)))\n",
    "    return actions\n",
    "\n",
    "def do_action(state: np.ndarray, action: 'Action') -> np.ndarray:\n",
    "    new_state = state.copy()\n",
    "    new_state[action.pos1], new_state[action.pos2] = new_state[action.pos2], new_state[action.pos1]\n",
    "    return new_state\n",
    "\n",
    "def is_goal(state: np.ndarray) -> bool:\n",
    "    \"\"\"Check if the state matches the goal configuration.\"\"\"\n",
    "    goal = np.array([i for i in range(1, PUZZLE_DIM**2)] + [0]).reshape((PUZZLE_DIM, PUZZLE_DIM))\n",
    "    return np.array_equal(state, goal)"
   ]
  },
  {
   "cell_type": "markdown",
   "metadata": {},
   "source": [
    "The Approach done is the A* search algorithm, where the heuristic function is the Manhattan distance"
   ]
  },
  {
   "cell_type": "code",
   "execution_count": 40,
   "metadata": {},
   "outputs": [],
   "source": [
    "def manhattan_distance(state: np.ndarray) -> int:\n",
    "    \"\"\"Calculate the Manhattan distance of the current state to the goal state.\"\"\"\n",
    "    distance = 0\n",
    "    goal_positions = {i: (i // PUZZLE_DIM, i % PUZZLE_DIM) for i in range(1, PUZZLE_DIM ** 2)}\n",
    "    for x in range(PUZZLE_DIM):\n",
    "        for y in range(PUZZLE_DIM):\n",
    "            value = state[x, y]\n",
    "            if value != 0:\n",
    "                goal_x, goal_y = goal_positions[value]\n",
    "                distance += abs(x - goal_x) + abs(y - goal_y)\n",
    "    return distance\n",
    "\n",
    "def is_goal(state: np.ndarray) -> bool:\n",
    "    \"\"\"Check if the state matches the goal configuration.\"\"\"\n",
    "    goal = np.array([i for i in range(1, PUZZLE_DIM**2)] + [0]).reshape((PUZZLE_DIM, PUZZLE_DIM))\n",
    "    return np.array_equal(state, goal)"
   ]
  },
  {
   "cell_type": "code",
   "execution_count": 41,
   "metadata": {},
   "outputs": [],
   "source": [
    "def solve_puzzle(initial_state: np.ndarray):\n",
    "    \"\"\"Solve the puzzle using A* search with a priority queue (heapq).\"\"\"\n",
    "    open_list = []\n",
    "    heappush(open_list, (manhattan_distance(initial_state), 0, initial_state.tobytes(), []))\n",
    "    closed_set = set()\n",
    "    closed_set.add(tuple(map(tuple, initial_state)))\n",
    "\n",
    "    while open_list:\n",
    "        heuristic, moves, current_state_bytes, path = heappop(open_list)\n",
    "        current_state = np.frombuffer(current_state_bytes, dtype=int).reshape(initial_state.shape)\n",
    "\n",
    "        if is_goal(current_state):\n",
    "            return path, len(path), len(closed_set)\n",
    "\n",
    "        for action in available_actions(current_state):\n",
    "            next_state = do_action(current_state, action)\n",
    "            next_path = path + [action]\n",
    "            next_state_tuple = tuple(map(tuple, next_state))\n",
    "\n",
    "            if next_state_tuple not in closed_set:\n",
    "                heappush(open_list, (manhattan_distance(next_state) * 1.1 + len(next_path), len(next_path), next_state.tobytes(), next_path))\n",
    "                closed_set.add(next_state_tuple)\n",
    "\n",
    "    return None, -1, len(closed_set)"
   ]
  },
  {
   "cell_type": "code",
   "execution_count": null,
   "metadata": {},
   "outputs": [
    {
     "data": {
      "application/vnd.jupyter.widget-view+json": {
       "model_id": "067b077833ae48cf90bd0370eaeec4ff",
       "version_major": 2,
       "version_minor": 0
      },
      "text/plain": [
       "Randomizing:   0%|          | 0/1000 [00:00<?, ?it/s]"
      ]
     },
     "metadata": {},
     "output_type": "display_data"
    },
    {
     "name": "stdout",
     "output_type": "stream",
     "text": [
      "Initial state:\n",
      "[[ 3 12  6  4]\n",
      " [ 8 11 10  7]\n",
      " [15 13  2  5]\n",
      " [ 9 14  1  0]]\n"
     ]
    }
   ],
   "source": [
    "# Initialize and randomize the starting state\n",
    "initial_state = np.array([i for i in range(1, PUZZLE_DIM**2)] + [0]).reshape((PUZZLE_DIM, PUZZLE_DIM))\n",
    "for _ in tqdm(range(RANDOMIZE_STEPS), desc='Randomizing'):\n",
    "    initial_state = do_action(initial_state, choice(available_actions(initial_state)))\n",
    "\n",
    "print(\"Initial state:\")\n",
    "print(initial_state)\n",
    "# Solve the puzzle\n",
    "solution_path, quality, cost = solve_puzzle(initial_state)\n",
    "\n",
    "\n",
    "print(\"Solution path:\", solution_path)\n",
    "print(\"Quality (number of moves):\", quality)\n",
    "print(\"Cost (total nodes evaluated):\", cost)"
   ]
  }
 ],
 "metadata": {
  "kernelspec": {
   "display_name": "ci-zvPL2sNt-py3.12",
   "language": "python",
   "name": "python3"
  },
  "language_info": {
   "codemirror_mode": {
    "name": "ipython",
    "version": 3
   },
   "file_extension": ".py",
   "mimetype": "text/x-python",
   "name": "python",
   "nbconvert_exporter": "python",
   "pygments_lexer": "ipython3",
   "version": "3.12.6"
  }
 },
 "nbformat": 4,
 "nbformat_minor": 2
}
